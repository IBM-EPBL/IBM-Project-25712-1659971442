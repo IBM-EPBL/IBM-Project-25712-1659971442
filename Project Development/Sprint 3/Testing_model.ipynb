{
  "cells": [
    {
      "cell_type": "markdown",
      "id": "9109aa20",
      "metadata": {
        "id": "9109aa20"
      },
      "source": [
        "# Testing"
      ]
    },
    {
      "cell_type": "code",
      "source": [
        "from google.colab import drive\n",
        "drive.mount('/content/drive')"
      ],
      "metadata": {
        "colab": {
          "base_uri": "https://localhost:8080/"
        },
        "id": "y98GO2bUUAOc",
        "outputId": "a3ef036b-5361-4e90-ad9b-677a729a954a"
      },
      "id": "y98GO2bUUAOc",
      "execution_count": 6,
      "outputs": [
        {
          "output_type": "stream",
          "name": "stdout",
          "text": [
            "Drive already mounted at /content/drive; to attempt to forcibly remount, call drive.mount(\"/content/drive\", force_remount=True).\n"
          ]
        }
      ]
    },
    {
      "cell_type": "code",
      "execution_count": 9,
      "id": "ae363002",
      "metadata": {
        "id": "ae363002"
      },
      "outputs": [],
      "source": [
        "from tensorflow.keras.models import load_model\n",
        "from tensorflow.keras.preprocessing import image\n",
        "model = load_model(\"gesture.h5\") #loading the model for testing\n",
        "path = \"/content/drive/MyDrive/dataset/test/0/1.jpg\""
      ]
    },
    {
      "cell_type": "code",
      "execution_count": 11,
      "id": "b531b95a",
      "metadata": {
        "colab": {
          "base_uri": "https://localhost:8080/"
        },
        "id": "b531b95a",
        "outputId": "44993da7-e410-4f1c-d491-d46d703317d4"
      },
      "outputs": [
        {
          "output_type": "stream",
          "name": "stdout",
          "text": [
            "1/1 [==============================] - 0s 334ms/step\n"
          ]
        },
        {
          "output_type": "execute_result",
          "data": {
            "text/plain": [
              "array([[0., 1., 0., 0., 0., 0.]], dtype=float32)"
            ]
          },
          "metadata": {},
          "execution_count": 11
        }
      ],
      "source": [
        "import numpy as np\n",
        "from tensorflow.keras.utils import load_img, img_to_array\n",
        "\n",
        "img = load_img(\"/content/drive/MyDrive/dataset/test/1/1.jpg\", grayscale=True, target_size=(64, 64))\n",
        "x = img_to_array(img)\n",
        "x = np.expand_dims(x,axis=0)\n",
        "pred = model.predict(x)\n",
        "\n",
        "pred"
      ]
    },
    {
      "cell_type": "code",
      "execution_count": 12,
      "id": "7e6ddbc7",
      "metadata": {
        "colab": {
          "base_uri": "https://localhost:8080/"
        },
        "id": "7e6ddbc7",
        "outputId": "7f077990-d2d8-4878-8e69-df624d07e6aa"
      },
      "outputs": [
        {
          "output_type": "execute_result",
          "data": {
            "text/plain": [
              "numpy.ndarray"
            ]
          },
          "metadata": {},
          "execution_count": 12
        }
      ],
      "source": [
        "type(x)"
      ]
    },
    {
      "cell_type": "code",
      "execution_count": 13,
      "id": "19467d61",
      "metadata": {
        "id": "19467d61"
      },
      "outputs": [],
      "source": [
        "#changing the shape\n",
        "x = np.expand_dims(x,axis = 0)"
      ]
    },
    {
      "cell_type": "code",
      "execution_count": 14,
      "id": "c13c84c5",
      "metadata": {
        "colab": {
          "base_uri": "https://localhost:8080/"
        },
        "id": "c13c84c5",
        "outputId": "3968fe9e-641c-47f7-821a-9551addb1ef6"
      },
      "outputs": [
        {
          "output_type": "execute_result",
          "data": {
            "text/plain": [
              "(1, 1, 64, 64, 1)"
            ]
          },
          "metadata": {},
          "execution_count": 14
        }
      ],
      "source": [
        "x.shape"
      ]
    },
    {
      "cell_type": "code",
      "execution_count": 15,
      "id": "bf9d9794",
      "metadata": {
        "colab": {
          "base_uri": "https://localhost:8080/"
        },
        "id": "bf9d9794",
        "outputId": "de911a37-2e44-4e13-c8cd-f8f6eb6ccc44"
      },
      "outputs": [
        {
          "output_type": "execute_result",
          "data": {
            "text/plain": [
              "array([0., 1., 0., 0., 0., 0.], dtype=float32)"
            ]
          },
          "metadata": {},
          "execution_count": 15
        }
      ],
      "source": [
        "#Predicting our results\n",
        "pred[0]"
      ]
    },
    {
      "cell_type": "code",
      "execution_count": null,
      "id": "29d989ff",
      "metadata": {
        "id": "29d989ff"
      },
      "outputs": [],
      "source": []
    }
  ],
  "metadata": {
    "kernelspec": {
      "display_name": "Python 3 (ipykernel)",
      "language": "python",
      "name": "python3"
    },
    "language_info": {
      "codemirror_mode": {
        "name": "ipython",
        "version": 3
      },
      "file_extension": ".py",
      "mimetype": "text/x-python",
      "name": "python",
      "nbconvert_exporter": "python",
      "pygments_lexer": "ipython3",
      "version": "3.9.7"
    },
    "colab": {
      "provenance": []
    }
  },
  "nbformat": 4,
  "nbformat_minor": 5
}